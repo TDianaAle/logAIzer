{
 "cells": [
  {
   "cell_type": "markdown",
   "id": "ce799b50",
   "metadata": {},
   "source": [
    "# Analisi del dataset UNSW-NB15\n",
    "\n",
    "## 1. Introduzione\n",
    "Il dataset UNSW-NB15 è stato sviluppato presso l'Australian Centre for Cyber Security (ACCS) \n",
    "ed è ampiamente utilizzato per attività di ricerca in ambito sicurezza informatica.\n",
    "\n",
    "### Fonte\n",
    "- Sito ufficiale: [UNSW-NB15 Dataset](https://research.unsw.edu.au/projects/unsw-nb15-dataset)\n",
    "\n",
    "### Obiettivo\n",
    "L’obiettivo di questa analisi è comprendere la struttura dei dati, effettuare una pulizia iniziale,\n",
    "ed esplorare le caratteristiche principali per supportare la fase successiva di machine learning \n",
    "(classificazione del traffico in normale vs attacco).\n"
   ]
  },
  {
   "cell_type": "code",
   "execution_count": null,
   "id": "5da2ab39",
   "metadata": {
    "vscode": {
     "languageId": "plaintext"
    }
   },
   "outputs": [],
   "source": [
    "import pandas as pd\n",
    "import matplotlib.pyplot as plt\n",
    "import seaborn as sns\n",
    "\n",
    "# Caricamento dati preprocessati\n",
    "df = pd.read_csv(\"data/processed/unsw_features.csv\")\n",
    "df.head()\n"
   ]
  },
  {
   "cell_type": "markdown",
   "id": "313260e9",
   "metadata": {},
   "source": [
    "## 2. Informazioni sul dataset\n",
    "Verifichiamo la dimensione del dataset, i tipi di variabili e la presenza di valori mancanti.\n"
   ]
  },
  {
   "cell_type": "code",
   "execution_count": null,
   "id": "248130e6",
   "metadata": {
    "vscode": {
     "languageId": "plaintext"
    }
   },
   "outputs": [],
   "source": [
    "print(df.shape)\n",
    "print(df.info())\n",
    "print(df.describe())\n"
   ]
  },
  {
   "cell_type": "markdown",
   "id": "53ffd8c2",
   "metadata": {},
   "source": [
    "## 3. Distribuzione delle classi\n",
    "Analizziamo la distribuzione delle etichette (`label` e `attack_cat`) per capire \n",
    "quanto il dataset sia bilanciato.\n"
   ]
  },
  {
   "cell_type": "code",
   "execution_count": null,
   "id": "0e374050",
   "metadata": {
    "vscode": {
     "languageId": "plaintext"
    }
   },
   "outputs": [],
   "source": [
    "# Distribuzione binaria (attacco vs normale)\n",
    "sns.countplot(x=\"label\", data=df)\n",
    "plt.title(\"Distribuzione classi binarie\")\n",
    "plt.show()\n",
    "\n",
    "# Distribuzione multiclass (categorie attacco)\n",
    "plt.figure(figsize=(10,5))\n",
    "sns.countplot(x=\"attack_cat\", data=df, order=df[\"attack_cat\"].value_counts().index)\n",
    "plt.xticks(rotation=45)\n",
    "plt.title(\"Distribuzione categorie di attacco\")\n",
    "plt.show()\n"
   ]
  },
  {
   "cell_type": "markdown",
   "id": "57844da7",
   "metadata": {},
   "source": [
    "## 4. Analisi delle feature\n",
    "Esempio: analisi statistica e grafica di alcune variabili numeriche e categoriali.\n"
   ]
  },
  {
   "cell_type": "code",
   "execution_count": null,
   "id": "8d8cf5f0",
   "metadata": {
    "vscode": {
     "languageId": "plaintext"
    }
   },
   "outputs": [],
   "source": [
    "# Esempio analisi statistica\n",
    "print(df[[\"sbytes\", \"dbytes\", \"dur\"]].describe())\n",
    "\n",
    "# Boxplot durata connessioni\n",
    "sns.boxplot(x=\"label\", y=\"dur\", data=df)\n",
    "plt.title(\"Durata connessioni per classe\")\n",
    "plt.show()\n"
   ]
  },
  {
   "cell_type": "markdown",
   "id": "0c586c23",
   "metadata": {},
   "source": [
    "## 5. Conclusioni preliminari\n",
    "\n",
    "- Il dataset è ampio e ben strutturato, con diverse variabili numeriche e categoriali.\n",
    "- La distribuzione delle classi è sbilanciata: alcune categorie di attacco hanno pochi esempi.\n",
    "- Le variabili numeriche (es. durata, byte inviati) mostrano differenze tra traffico normale e attacchi.\n",
    "- Questa analisi prepara il terreno per la fase di **feature engineering** e **machine learning**.\n"
   ]
  }
 ],
 "metadata": {
  "language_info": {
   "name": "python"
  }
 },
 "nbformat": 4,
 "nbformat_minor": 5
}
